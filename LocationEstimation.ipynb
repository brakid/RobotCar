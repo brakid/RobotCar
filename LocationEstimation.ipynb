{
 "cells": [
  {
   "cell_type": "code",
   "execution_count": 1,
   "id": "106ea5e3-c3a1-44d3-aff4-87d7893791f5",
   "metadata": {},
   "outputs": [],
   "source": [
    "import math\n",
    "import numpy as np\n",
    "\n",
    "#MARKER_1 = (1.0, 0.0)\n",
    "#MARKER_1_OFFSET = 90 # top-right side\n",
    "#MARKER_2 = (0.0, -1.0)\n",
    "#MARKER_3_OFFSET = 270 # bottom-left side\n",
    "#MARKER_3 = (2.0, -1.0)\n",
    "#MARKER_3_OFFSET = 90 # top-right side\n",
    "\n",
    "MARKER_1 = (0.0, 0.0)\n",
    "MARKER_1_OFFSET = 90\n",
    "MARKER_2 = (1.0, 0.0)\n",
    "MARKER_2_OFFSET = 90\n",
    "MARKER_3 = (2.0, 0.0)\n",
    "MARKER_3_OFFSET = 90\n",
    "\n",
    "EPS = 1e-16\n",
    "PRECISION_DIGITS = 5\n",
    "POSITION_DIGITS = 1\n",
    "\n",
    "MAX_VALUE = 1e+10\n",
    "\n",
    "def estimate_line(angle, marker, offset):\n",
    "    if angle < 0:\n",
    "        return False, None, None\n",
    "    m = math.tan(math.radians(offset - angle))\n",
    "    if m > MAX_VALUE:\n",
    "        m = float('inf')\n",
    "    m = round(m, PRECISION_DIGITS)\n",
    "    n = marker[1] - m * marker[0] if marker[0] > 0 else marker[1]\n",
    "    return True, m, n\n",
    "\n",
    "def intersection(line1, line2, marker1, marker2):\n",
    "    m1, n1 = line1\n",
    "    m2, n2 = line2\n",
    "\n",
    "    if m1 == m2:\n",
    "        print('No intersection')\n",
    "        return False, None, None\n",
    "\n",
    "    if m1 == float('inf'):\n",
    "        x = marker1[0]\n",
    "        y = m2 * x + n2\n",
    "    elif m2 == float('inf'):\n",
    "        x = marker2[0]\n",
    "        y = m1 * x + n1\n",
    "    else:\n",
    "        x = round((n2 - n1) / (m1 - m2 + EPS) if m1 != float('inf') else 1.0, PRECISION_DIGITS)\n",
    "        y = round(m1 * x + n1 if m1 != float('inf') else m2 * x + n2, PRECISION_DIGITS)\n",
    "\n",
    "    return True, x, y\n",
    "\n",
    "# alpha: angle (right hand direction) to spot the 1st marker\n",
    "# beta:  angle (right hand direction) to spot the 2nd marker\n",
    "# gamma:  angle (right hand direction) to spot the 3rd marker\n",
    "# negative angles (-1) indicate the marker was not detected\n",
    "def estimate_position(alpha, beta, gamma):\n",
    "    found1, m1, n1 = estimate_line(alpha, MARKER_1, MARKER_1_OFFSET)\n",
    "    found2, m2, n2 = estimate_line(beta, MARKER_2, MARKER_2_OFFSET)\n",
    "    found3, m3, n3 = estimate_line(gamma, MARKER_3, MARKER_3_OFFSET)\n",
    "\n",
    "    print('l1', m1, n1)\n",
    "    print('l2', m2, n2)\n",
    "    print('l3', m3, n3)\n",
    "\n",
    "    x = []\n",
    "    y = []\n",
    "\n",
    "    if (found1 and found2):\n",
    "        intersecting, x1, y1 = intersection((m1, n1), (m2, n2), MARKER_1, MARKER_2)\n",
    "        if intersecting:\n",
    "            print('l1 and l2 are intersecting')\n",
    "            x.append(x1)\n",
    "            y.append(y1)\n",
    "\n",
    "    if (found1 and found3):\n",
    "        intersecting, x2, y2 = intersection((m1, n1), (m3, n3), MARKER_1, MARKER_3)\n",
    "        if intersecting:\n",
    "            print('l1 and l3 are intersecting')\n",
    "            x.append(x2)\n",
    "            y.append(y2)\n",
    "\n",
    "    if (found2 and found3):\n",
    "        intersecting, x3, y3 = intersection((m2, n2), (m3, n3), MARKER_2, MARKER_3)\n",
    "        if intersecting:\n",
    "            print('l2 and l3 are intersecting')\n",
    "            x.append(x3)\n",
    "            y.append(y3)\n",
    "\n",
    "    if len(x) == 0 or len(y) ==0:\n",
    "        raise Exception('No intersections')\n",
    "\n",
    "    return round(np.mean(x), POSITION_DIGITS), round(np.mean(y), POSITION_DIGITS)"
   ]
  },
  {
   "cell_type": "code",
   "execution_count": 2,
   "id": "392adb4f-0acb-4ab1-9816-d56feab5748a",
   "metadata": {},
   "outputs": [
    {
     "name": "stdout",
     "output_type": "stream",
     "text": [
      "l1 -2.14451 0.0\n",
      "l2 None None\n",
      "l3 2.74748 -5.49496\n",
      "l1 and l3 are intersecting\n"
     ]
    },
    {
     "data": {
      "text/plain": [
       "(1.1, -2.4)"
      ]
     },
     "execution_count": 2,
     "metadata": {},
     "output_type": "execute_result"
    }
   ],
   "source": [
    "estimate_position(335, -1, 20)"
   ]
  },
  {
   "cell_type": "code",
   "execution_count": 174,
   "id": "d2e0df9f-fa1c-42a9-bb85-d750655e5c4b",
   "metadata": {},
   "outputs": [
    {
     "name": "stdout",
     "output_type": "stream",
     "text": [
      "l1 None None\n",
      "l2 inf -inf\n",
      "l3 1.0 -10.0\n",
      "l2 and l3 are intersecting\n"
     ]
    },
    {
     "data": {
      "text/plain": [
       "(5.0, -5.0)"
      ]
     },
     "execution_count": 174,
     "metadata": {},
     "output_type": "execute_result"
    }
   ],
   "source": [
    "estimate_position(-1, 0, 45)"
   ]
  },
  {
   "cell_type": "code",
   "execution_count": 224,
   "id": "1d5d2044-d1d5-464a-b809-e94eca654b7c",
   "metadata": {},
   "outputs": [
    {
     "name": "stdout",
     "output_type": "stream",
     "text": [
      "90.0\n",
      "180.0\n",
      "270.0\n",
      "0.0\n",
      "45.0\n",
      "135.0\n",
      "225.0\n",
      "315.0\n",
      "63.43\n",
      "153.43\n",
      "243.43\n",
      "333.43\n"
     ]
    }
   ],
   "source": [
    "current_x = 0\n",
    "current_y = 0\n",
    "\n",
    "target_x = -0.2\n",
    "target_y = 0\n",
    "\n",
    "def get_direction(current_x, current_y, target_x, target_y):\n",
    "    if target_y >= current_y: # top half\n",
    "        angle = math.atan((target_x - current_x) / (target_y - current_y + EPS))\n",
    "        return round(((math.degrees(angle) + 360.0) % 360), 2)\n",
    "    if target_y < current_y: # bottom half\n",
    "        angle = math.atan((target_x - current_x) / (target_y - current_y + EPS))\n",
    "        return round(((180 + math.degrees(angle) + 360.0) % 360), 2)\n",
    "\n",
    "#0,0 -> 1,0 -> 90\n",
    "#0,0 -> -1,0 -> 270\n",
    "#0,0 -> 0,-1 -> 180\n",
    "\n",
    "print(get_direction(0, 0, 1, 0))\n",
    "print(get_direction(0, 0, 0, -1))\n",
    "print(get_direction(0, 0, -1, 0))\n",
    "print(get_direction(0, 0, 0, 1))\n",
    "print(get_direction(0, 0, 1, 1))\n",
    "print(get_direction(0, 0, 1, -1))\n",
    "print(get_direction(0, 0, -1, -1))\n",
    "print(get_direction(0, 0, -1, 1))\n",
    "print(get_direction(0, 0, 2, 1))\n",
    "print(get_direction(0, 0, 1, -2))\n",
    "print(get_direction(0, 0, -2, -1))\n",
    "print(get_direction(0, 0, -1, 2))"
   ]
  }
 ],
 "metadata": {
  "kernelspec": {
   "display_name": "Python 3 (ipykernel)",
   "language": "python",
   "name": "python3"
  },
  "language_info": {
   "codemirror_mode": {
    "name": "ipython",
    "version": 3
   },
   "file_extension": ".py",
   "mimetype": "text/x-python",
   "name": "python",
   "nbconvert_exporter": "python",
   "pygments_lexer": "ipython3",
   "version": "3.9.2"
  }
 },
 "nbformat": 4,
 "nbformat_minor": 5
}
