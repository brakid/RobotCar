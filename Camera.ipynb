{
 "cells": [
  {
   "cell_type": "code",
   "execution_count": 1,
   "id": "4523bd75-a066-4316-a37c-7dd2bbff7c60",
   "metadata": {},
   "outputs": [],
   "source": [
    "import cv2\n",
    "import numpy as np\n",
    "import matplotlib.pyplot as plt\n",
    "import time"
   ]
  },
  {
   "cell_type": "code",
   "execution_count": 4,
   "id": "91b1b2b4-611c-4662-bf0f-6d3776fed801",
   "metadata": {},
   "outputs": [
    {
     "name": "stderr",
     "output_type": "stream",
     "text": [
      "[ WARN:0] global ../modules/videoio/src/cap_gstreamer.cpp (501) isPipelinePlaying OpenCV | GStreamer warning: GStreamer: pipeline have not been created\n"
     ]
    }
   ],
   "source": [
    "cam = cv2.VideoCapture(0)\n",
    "#cam.set(cv2.CAP_PROP_AUTO_EXPOSURE, 0.25)    # Needed to set exposure manually\n",
    "#cam.set(cv2.CAP_PROP_EXPOSURE, 900)          # 900ms exposure as per SOST\n",
    "#cam.set(cv2.CAP_PROP_FPS, (1/0.9)) "
   ]
  },
  {
   "cell_type": "code",
   "execution_count": 5,
   "id": "cfba0c5a-5b07-4823-8dda-55818ed4eb1d",
   "metadata": {},
   "outputs": [],
   "source": [
    "def take_image():\n",
    "    for _ in range(10):\n",
    "        r, _ = cam.read()\n",
    "        if not r:\n",
    "            break\n",
    "    time.sleep(0.1)\n",
    "    _, image = cam.read()\n",
    "    image = cv2.cvtColor(image, cv2.COLOR_BGR2RGB)\n",
    "    return image"
   ]
  },
  {
   "cell_type": "code",
   "execution_count": 6,
   "id": "2e72504b-3ad6-4bf0-8ee6-9915469b66d6",
   "metadata": {},
   "outputs": [],
   "source": [
    "THRESHOLD = 50\n",
    "\n",
    "def find_color(color_index, image):\n",
    "    color_channel = image[:, :, color_index]\n",
    "    channel_indices = [ i for i in range(3) if i != color_index ]\n",
    "    other_channels = np.max(image[:, :, channel_indices], axis=-1).astype(np.uint16)\n",
    "    diff = color_channel > (other_channels + THRESHOLD)\n",
    "    diff = diff.astype(np.uint8)\n",
    "    kernel = np.ones((5, 5), np.uint8) \n",
    "    diff = cv2.erode(diff, kernel, iterations=1) \n",
    "    diff = cv2.dilate(diff, kernel, iterations=1)\n",
    "    return diff"
   ]
  },
  {
   "cell_type": "code",
   "execution_count": 7,
   "id": "a19abea3-7999-4961-8988-3c2010a378aa",
   "metadata": {},
   "outputs": [],
   "source": [
    "def find_center_of_mass(diff):\n",
    "    contours = cv2.findContours(diff, cv2.RETR_EXTERNAL, cv2.CHAIN_APPROX_SIMPLE)[0]\n",
    "    if len(contours) == 0:\n",
    "        return None, None, None\n",
    "    contours = sorted(contours, key=cv2.contourArea, reverse=True)\n",
    "    contour = contours[0]\n",
    "    \n",
    "    moments = cv2.moments(contour)\n",
    "    return int(moments['m10'] // moments['m00']), int(moments['m01'] // moments['m00']), contour"
   ]
  },
  {
   "cell_type": "code",
   "execution_count": 10,
   "id": "11784143-4e7a-4e6d-adad-d8bc4c9d7e4d",
   "metadata": {},
   "outputs": [],
   "source": [
    "def find_marker(color_index):\n",
    "    image = take_image()\n",
    "    diff = find_color(color_index, image)\n",
    "    x, y, contour = find_center_of_mass(diff)\n",
    "\n",
    "    if (x is not None) and (y is not None) and (contour is not None):\n",
    "        image = cv2.drawContours(image, [contour], -1, (0, 255, 255), 3)  # in green\n",
    "        #plt.imshow(image)\n",
    "        #plt.show()\n",
    "        return x, y\n",
    "    return None, None"
   ]
  },
  {
   "cell_type": "code",
   "execution_count": 12,
   "id": "00198522-eb6a-4398-8e88-f7b74d1ff5fa",
   "metadata": {},
   "outputs": [
    {
     "name": "stdout",
     "output_type": "stream",
     "text": [
      "(448, 187)\n",
      "0.8568658828735352\n"
     ]
    }
   ],
   "source": [
    "#find_marker(0), find_marker(1), \n",
    "s = time.time()\n",
    "print(find_marker(0))\n",
    "print(time.time() - s)"
   ]
  },
  {
   "cell_type": "code",
   "execution_count": 48,
   "id": "8b2f17cc-5778-4ff0-8577-3357560cf1de",
   "metadata": {},
   "outputs": [],
   "source": [
    "from driver import Driver, normalize\n",
    "\n",
    "d = Driver()\n",
    "d.calibrate()"
   ]
  },
  {
   "cell_type": "code",
   "execution_count": 49,
   "id": "8eff1f2c-9119-4672-94c5-e9a902fae513",
   "metadata": {},
   "outputs": [
    {
     "name": "stdout",
     "output_type": "stream",
     "text": [
      "Defining 308.52960186934945 as north\n"
     ]
    }
   ],
   "source": [
    "d.set_north()"
   ]
  },
  {
   "cell_type": "code",
   "execution_count": 34,
   "id": "cceae078-0055-40c0-add6-871f1f8d0bc3",
   "metadata": {},
   "outputs": [
    {
     "data": {
      "text/plain": [
       "309.542510337703"
      ]
     },
     "execution_count": 34,
     "metadata": {},
     "output_type": "execute_result"
    }
   ],
   "source": [
    "d.read_heading()"
   ]
  },
  {
   "cell_type": "code",
   "execution_count": 64,
   "id": "a2a2e54d-b633-433b-900b-f94842a179ca",
   "metadata": {},
   "outputs": [],
   "source": [
    "STEP_SIZE = 10\n",
    "BAND = 40\n",
    "START_ANGLE = 80\n",
    "ANGLES = [ i * STEP_SIZE - START_ANGLE for i in range(((START_ANGLE * 2) // STEP_SIZE) + 1) ]\n",
    "\n",
    "MARKERS = [0, 2]\n",
    "\n",
    "def get_marker_angle(color_index, angle):\n",
    "    x, y = find_marker(color_index)\n",
    "    if (x is not None) and (y is not None):\n",
    "        if (x >= 320 - BAND) and (x <= 320 + BAND):\n",
    "            return normalize(angle)\n",
    "        elif x <= 320:\n",
    "            return normalize(angle - STEP_SIZE / 2)\n",
    "    return None\n",
    "\n",
    "def find_markers(driver):\n",
    "    detections = {}\n",
    "    driver.turn_north(ANGLES[0])\n",
    "    for angle in ANGLES:\n",
    "        driver.turn_north(angle)\n",
    "        for color_index in MARKERS:\n",
    "            if len(set(MARKERS) - set(detections.keys())) == 0:\n",
    "                return detections\n",
    "            if color_index in detections:\n",
    "                continue\n",
    "\n",
    "            detection_angle = get_marker_angle(color_index, angle)\n",
    "            if detection_angle is not None:\n",
    "                print('Found', color_index, 'at angle', detection_angle)\n",
    "                detections[color_index] = detection_angle\n",
    "    return detections\n",
    "\n",
    "def center_marker(color_index, driver):\n",
    "    driver.turn_north(ANGLES[0])\n",
    "    for angle in ANGLES:\n",
    "        driver.turn_north(angle)\n",
    "        detection_angle = get_marker_angle(color_index, angle)\n",
    "        if detection_angle is not None:\n",
    "            return detection_angle\n",
    "    return None"
   ]
  },
  {
   "cell_type": "code",
   "execution_count": null,
   "id": "cbee7de9",
   "metadata": {},
   "outputs": [],
   "source": [
    "find_markers(d)"
   ]
  },
  {
   "cell_type": "code",
   "execution_count": 60,
   "id": "1cf123bf-e112-49af-ac51-e8d336fd1b81",
   "metadata": {},
   "outputs": [
    {
     "data": {
      "text/plain": [
       "335.0"
      ]
     },
     "execution_count": 60,
     "metadata": {},
     "output_type": "execute_result"
    }
   ],
   "source": [
    "center_marker(0, d)"
   ]
  },
  {
   "cell_type": "code",
   "execution_count": 61,
   "id": "38b9355d-7473-4f8c-ac65-f2602ff19d90",
   "metadata": {},
   "outputs": [
    {
     "data": {
      "text/plain": [
       "20"
      ]
     },
     "execution_count": 61,
     "metadata": {},
     "output_type": "execute_result"
    }
   ],
   "source": [
    "center_marker(2, d)"
   ]
  },
  {
   "cell_type": "code",
   "execution_count": 3,
   "id": "3723158d-0968-434e-8429-475397b4b0e8",
   "metadata": {},
   "outputs": [],
   "source": [
    "cam.release()\n",
    "del cam"
   ]
  }
 ],
 "metadata": {
  "kernelspec": {
   "display_name": "Python 3 (ipykernel)",
   "language": "python",
   "name": "python3"
  },
  "language_info": {
   "codemirror_mode": {
    "name": "ipython",
    "version": 3
   },
   "file_extension": ".py",
   "mimetype": "text/x-python",
   "name": "python",
   "nbconvert_exporter": "python",
   "pygments_lexer": "ipython3",
   "version": "3.9.2"
  }
 },
 "nbformat": 4,
 "nbformat_minor": 5
}
