{
 "cells": [
  {
   "cell_type": "code",
   "execution_count": 293,
   "id": "a421fb05-06d8-410c-bd9d-055ab85111d6",
   "metadata": {},
   "outputs": [],
   "source": [
    "import time\n",
    "import RPi.GPIO as GPIO\n",
    "import statistics"
   ]
  },
  {
   "cell_type": "code",
   "execution_count": 2,
   "id": "d6bd1adb-d1ef-4cb1-9426-fda512794fda",
   "metadata": {},
   "outputs": [],
   "source": [
    "TRIG = 10\n",
    "ECHO = 12\n",
    "\n",
    "GPIO.setmode(GPIO.BOARD)\n",
    "GPIO.setup(TRIG, GPIO.OUT)\n",
    "GPIO.setup(ECHO, GPIO.IN)\n",
    "GPIO.output(TRIG, 0)"
   ]
  },
  {
   "cell_type": "code",
   "execution_count": 135,
   "id": "d317c396-0f8b-4389-af4b-7dfe7f8dc096",
   "metadata": {},
   "outputs": [],
   "source": [
    "SPEED_OF_SOUND = (343 * 100) # 343m/s to cm/s\n",
    "# 343m/s * 100cm/m => 34300cm/s"
   ]
  },
  {
   "cell_type": "code",
   "execution_count": 142,
   "id": "3549068c-bdd9-4281-8b07-4266fdb10f53",
   "metadata": {},
   "outputs": [],
   "source": [
    "def measure():\n",
    "    GPIO.output(TRIG, 1)\n",
    "    time.sleep(0.00001)\n",
    "    GPIO.output(TRIG, 0)\n",
    "    start = time.time()\n",
    "    while GPIO.input(ECHO) == 0:\n",
    "        start = time.time()\n",
    "    while GPIO.input(ECHO) == 1:\n",
    "        stop = time.time()\n",
    "    elapsed = stop - start\n",
    "    distance = (elapsed / 2.0) * SPEED_OF_SOUND\n",
    "    return distance"
   ]
  },
  {
   "cell_type": "code",
   "execution_count": 307,
   "id": "9dfc9300-c7f9-434a-a4f1-7ad6187d249c",
   "metadata": {},
   "outputs": [],
   "source": [
    "def get_distance(samples = 10):\n",
    "    distances = []\n",
    "    for _ in range(samples):\n",
    "        distances.append(measure())\n",
    "        time.sleep(0.005)\n",
    "    print(distances)\n",
    "    return statistics.median(distances)"
   ]
  },
  {
   "cell_type": "code",
   "execution_count": 317,
   "id": "6cca23ae-1512-47b9-98ea-5a9748378a95",
   "metadata": {},
   "outputs": [
    {
     "name": "stdout",
     "output_type": "stream",
     "text": [
      "[143.33972930908203, 203.94917726516724, 146.62718772888184, 135.10472774505615, 110.86176633834839, 204.0227770805359, 142.05173254013062, 204.08411026000977, 203.65477800369263, 203.9655327796936]\n"
     ]
    },
    {
     "data": {
      "text/plain": [
       "175.14098286628723"
      ]
     },
     "execution_count": 317,
     "metadata": {},
     "output_type": "execute_result"
    }
   ],
   "source": [
    "get_distance()"
   ]
  },
  {
   "cell_type": "code",
   "execution_count": 256,
   "id": "3a27aeb9-946e-48ee-a5fa-b0cfc3239611",
   "metadata": {},
   "outputs": [
    {
     "data": {
      "text/plain": [
       "6"
      ]
     },
     "execution_count": 256,
     "metadata": {},
     "output_type": "execute_result"
    }
   ],
   "source": [
    "sum([1,2,3,])"
   ]
  }
 ],
 "metadata": {
  "kernelspec": {
   "display_name": "Python 3 (ipykernel)",
   "language": "python",
   "name": "python3"
  },
  "language_info": {
   "codemirror_mode": {
    "name": "ipython",
    "version": 3
   },
   "file_extension": ".py",
   "mimetype": "text/x-python",
   "name": "python",
   "nbconvert_exporter": "python",
   "pygments_lexer": "ipython3",
   "version": "3.9.2"
  }
 },
 "nbformat": 4,
 "nbformat_minor": 5
}
